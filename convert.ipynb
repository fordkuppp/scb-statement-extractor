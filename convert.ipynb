{
 "cells": [
  {
   "cell_type": "code",
   "execution_count": null,
   "metadata": {},
   "outputs": [],
   "source": [
    "%pip install pdfplumber\n",
    "%pip install pandas"
   ]
  },
  {
   "cell_type": "code",
   "execution_count": 4,
   "metadata": {},
   "outputs": [],
   "source": [
    "import pdfplumber\n",
    "import pandas as pd\n",
    "import re\n",
    "import os\n",
    "from datetime import datetime"
   ]
  },
  {
   "cell_type": "code",
   "execution_count": 5,
   "metadata": {},
   "outputs": [],
   "source": [
    "def extract_data(pdf_path):\n",
    "    data = []\n",
    "\n",
    "    date_pattern = re.compile(r\"^\\d{2}/\\d{2}/\\d{2}\")\n",
    "    table_settings = {\"vertical_strategy\": \"explicit\", \"explicit_vertical_lines\":[20,50, 120,190, 190,270, 270,325, 325,520], \"join_x_tolerance\": 4}\n",
    "    pdf = pdfplumber.open(pdf_path)\n",
    "    for page in pdf.pages:\n",
    "        page = page.within_bbox((0, 125, page.width, 730))\n",
    "        table = page.extract_table(table_settings)\n",
    "        if table is None:\n",
    "            continue\n",
    "        for row in table:\n",
    "            split_row = [cell.split(\"\\n\") if cell is not None else [\"\"] for cell in row]\n",
    "            flatten_row = [x for xs in split_row for x in xs]\n",
    "            if date_pattern.match(flatten_row[0]):\n",
    "                data.append(flatten_row)\n",
    "\n",
    "    df = pd.DataFrame(data, columns=[\"Date\", \"Time\", \"Code/Channel\", \"Debit\", \"Credit\", \"Balance\", \"Description\", \"Note\"])\n",
    "    df[\"Description\"] = df[\"Description\"].str.replace(r\"^DESC : ?\", \"\", regex=True)\n",
    "    df[\"Note\"] = df[\"Note\"].str.replace(r\"^NOTE : ?\", \"\", regex=True)\n",
    "    return df"
   ]
  },
  {
   "cell_type": "code",
   "execution_count": 6,
   "metadata": {},
   "outputs": [],
   "source": [
    "for file in os.listdir(\".\"):\n",
    "    try:\n",
    "        if file.endswith(\".pdf\") and datetime.strptime(file[:-4], \"%Y-%m\"):\n",
    "            path_to_save = f\"output/{file[:-4]}.csv\"\n",
    "            extract_data(file).to_csv(path_to_save, index=False)\n",
    "    except:\n",
    "        print(f\"File {file} is not eligible or error\")\n",
    "        continue"
   ]
  }
 ],
 "metadata": {
  "kernelspec": {
   "display_name": "Python 3",
   "language": "python",
   "name": "python3"
  },
  "language_info": {
   "codemirror_mode": {
    "name": "ipython",
    "version": 3
   },
   "file_extension": ".py",
   "mimetype": "text/x-python",
   "name": "python",
   "nbconvert_exporter": "python",
   "pygments_lexer": "ipython3",
   "version": "3.10.6"
  }
 },
 "nbformat": 4,
 "nbformat_minor": 2
}
