{
 "cells": [
  {
   "cell_type": "code",
   "execution_count": null,
   "metadata": {},
   "outputs": [],
   "source": [
    "%pip install pypdf"
   ]
  },
  {
   "cell_type": "code",
   "execution_count": null,
   "metadata": {},
   "outputs": [],
   "source": [
    "import os\n",
    "from pypdf import PdfReader, PdfWriter"
   ]
  },
  {
   "cell_type": "code",
   "execution_count": null,
   "metadata": {},
   "outputs": [],
   "source": [
    "files = []\n",
    "for file in os.listdir(\".\"):\n",
    "    if file.startswith(\"AcctSt\") and file.endswith(\".pdf\"):\n",
    "        files.append(file)"
   ]
  },
  {
   "cell_type": "code",
   "execution_count": null,
   "metadata": {},
   "outputs": [],
   "source": [
    "password = \"ddmmyyyy\"\n",
    "\n",
    "for file in files:\n",
    "    reader = PdfReader(file)\n",
    "\n",
    "    if reader.is_encrypted:\n",
    "        reader.decrypt(password)\n",
    "    else:\n",
    "        print(\"Already decrypt\")\n",
    "    writer = PdfWriter(clone_from=reader)\n",
    "\n",
    "    # Save the new PDF to a file\n",
    "    with open(file, \"wb\") as f:\n",
    "        writer.write(f)"
   ]
  },
  {
   "cell_type": "code",
   "execution_count": null,
   "metadata": {},
   "outputs": [],
   "source": [
    "month_map = {\n",
    "    \"Jan\": \"01\", \"Feb\": \"02\", \"Mar\": \"03\", \"Apr\": \"04\",\n",
    "    \"May\": \"05\", \"Jun\": \"06\", \"Jul\": \"07\", \"Aug\": \"08\",\n",
    "    \"Sep\": \"09\", \"Oct\": \"10\", \"Nov\": \"11\", \"Dec\": \"12\"\n",
    "}\n",
    "for file in files:\n",
    "    date = file[-9:-4]\n",
    "    iso_date = f\"20{date[-2:]}-{month_map.get(date[:3])}.pdf\"\n",
    "    if os.path.exists(file):\n",
    "        os.rename(file, iso_date)\n",
    "    else:\n",
    "        print(f\"File not found: {file}\")"
   ]
  }
 ],
 "metadata": {
  "kernelspec": {
   "display_name": "Python 3",
   "language": "python",
   "name": "python3"
  },
  "language_info": {
   "codemirror_mode": {
    "name": "ipython",
    "version": 3
   },
   "file_extension": ".py",
   "mimetype": "text/x-python",
   "name": "python",
   "nbconvert_exporter": "python",
   "pygments_lexer": "ipython3",
   "version": "3.10.6"
  }
 },
 "nbformat": 4,
 "nbformat_minor": 2
}
